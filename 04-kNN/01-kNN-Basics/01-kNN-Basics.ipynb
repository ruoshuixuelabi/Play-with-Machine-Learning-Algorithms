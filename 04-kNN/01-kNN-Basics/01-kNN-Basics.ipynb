{
 "cells": [
  {
   "cell_type": "markdown",
   "metadata": {
    "collapsed": true
   },
   "source": [
    "## 01 kNN 基础"
   ]
  },
  {
   "cell_type": "code",
   "execution_count": 1,
   "metadata": {
    "collapsed": true,
    "ExecuteTime": {
     "end_time": "2023-07-18T23:32:19.886330600Z",
     "start_time": "2023-07-18T23:32:19.572232600Z"
    }
   },
   "outputs": [],
   "source": [
    "import numpy as np\n",
    "import matplotlib.pyplot as plt"
   ]
  },
  {
   "cell_type": "markdown",
   "metadata": {},
   "source": [
    "### kNN 基础概念\n",
    "\n",
    "见PPT"
   ]
  },
  {
   "cell_type": "markdown",
   "metadata": {},
   "source": [
    "### 实现我们自己的 kNN"
   ]
  },
  {
   "cell_type": "markdown",
   "metadata": {},
   "source": [
    "#### 创建简单测试用例"
   ]
  },
  {
   "cell_type": "code",
   "execution_count": 4,
   "metadata": {
    "collapsed": true,
    "ExecuteTime": {
     "end_time": "2023-07-18T23:32:47.522112600Z",
     "start_time": "2023-07-18T23:32:47.512030200Z"
    }
   },
   "outputs": [],
   "source": [
    "# 特征\n",
    "raw_data_X = [[3.393533211, 2.331273381],\n",
    "              [3.110073483, 1.781539638],\n",
    "              [1.343808831, 3.368360954],\n",
    "              [3.582294042, 4.679179110],\n",
    "              [2.280362439, 2.866990263],\n",
    "              [7.423436942, 4.696522875],\n",
    "              [5.745051997, 3.533989803],\n",
    "              [9.172168622, 2.511101045],\n",
    "              [7.792783481, 3.424088941],\n",
    "              [7.939820817, 0.791637231]\n",
    "             ]\n",
    "# 类别\n",
    "raw_data_y = [0, 0, 0, 0, 0, 1, 1, 1, 1, 1]"
   ]
  },
  {
   "cell_type": "code",
   "execution_count": 5,
   "metadata": {
    "collapsed": true,
    "ExecuteTime": {
     "end_time": "2023-07-18T23:33:50.907355700Z",
     "start_time": "2023-07-18T23:33:50.904365200Z"
    }
   },
   "outputs": [],
   "source": [
    "# 训练集   X_train 是特征集  y_train是类别\n",
    "X_train = np.array(raw_data_X)\n",
    "y_train = np.array(raw_data_y)"
   ]
  },
  {
   "cell_type": "code",
   "execution_count": 6,
   "metadata": {
    "ExecuteTime": {
     "end_time": "2023-07-18T23:33:53.150178400Z",
     "start_time": "2023-07-18T23:33:53.137510500Z"
    }
   },
   "outputs": [
    {
     "data": {
      "text/plain": "array([[3.39353321, 2.33127338],\n       [3.11007348, 1.78153964],\n       [1.34380883, 3.36836095],\n       [3.58229404, 4.67917911],\n       [2.28036244, 2.86699026],\n       [7.42343694, 4.69652288],\n       [5.745052  , 3.5339898 ],\n       [9.17216862, 2.51110105],\n       [7.79278348, 3.42408894],\n       [7.93982082, 0.79163723]])"
     },
     "execution_count": 6,
     "metadata": {},
     "output_type": "execute_result"
    }
   ],
   "source": [
    "X_train"
   ]
  },
  {
   "cell_type": "code",
   "execution_count": 7,
   "metadata": {
    "ExecuteTime": {
     "end_time": "2023-07-18T23:33:57.498878200Z",
     "start_time": "2023-07-18T23:33:57.480821900Z"
    }
   },
   "outputs": [
    {
     "data": {
      "text/plain": "array([0, 0, 0, 0, 0, 1, 1, 1, 1, 1])"
     },
     "execution_count": 7,
     "metadata": {},
     "output_type": "execute_result"
    }
   ],
   "source": [
    "y_train"
   ]
  },
  {
   "cell_type": "code",
   "execution_count": 8,
   "metadata": {
    "ExecuteTime": {
     "end_time": "2023-07-18T23:34:08.438330Z",
     "start_time": "2023-07-18T23:34:08.046533800Z"
    }
   },
   "outputs": [
    {
     "data": {
      "text/plain": "<Figure size 640x480 with 1 Axes>",
      "image/png": "[encoded data removed]"
     },
     "metadata": {},
     "output_type": "display_data"
    }
   ],
   "source": [
    "plt.scatter(X_train[y_train==0,0], X_train[y_train==0,1], color='g')\n",
    "plt.scatter(X_train[y_train==1,0], X_train[y_train==1,1], color='r')\n",
    "plt.show()"
   ]
  },
  {
   "cell_type": "markdown",
   "metadata": {},
   "source": [
    "预测："
   ]
  },
  {
   "cell_type": "code",
   "execution_count": 9,
   "metadata": {
    "ExecuteTime": {
     "end_time": "2023-07-18T23:34:55.044652Z",
     "start_time": "2023-07-18T23:34:54.963203700Z"
    }
   },
   "outputs": [
    {
     "data": {
      "text/plain": "<Figure size 640x480 with 1 Axes>",
      "image/png": "[encoded data removed]"
     },
     "metadata": {},
     "output_type": "display_data"
    }
   ],
   "source": [
    "x = np.array([8.093607318, 3.365731514])\n",
    "plt.scatter(X_train[y_train==0,0], X_train[y_train==0,1], color='g')\n",
    "plt.scatter(X_train[y_train==1,0], X_train[y_train==1,1], color='r')\n",
    "# 单独绘制新加的点\n",
    "plt.scatter(x[0], x[1], color='b')\n",
    "plt.show()"
   ]
  },
  {
   "cell_type": "markdown",
   "metadata": {},
   "source": [
    "#### kNN的过程"
   ]
  },
  {
   "cell_type": "code",
   "execution_count": 10,
   "metadata": {
    "collapsed": true,
    "ExecuteTime": {
     "end_time": "2023-07-18T23:35:20.052262700Z",
     "start_time": "2023-07-18T23:35:20.040181900Z"
    }
   },
   "outputs": [],
   "source": [
    "from math import sqrt\n",
    "distances = []\n",
    "for x_train in X_train:\n",
    "    d = sqrt(np.sum((x_train - x)**2))\n",
    "    distances.append(d)"
   ]
  },
  {
   "cell_type": "code",
   "execution_count": 11,
   "metadata": {
    "ExecuteTime": {
     "end_time": "2023-07-18T23:35:22.875308Z",
     "start_time": "2023-07-18T23:35:22.863896900Z"
    }
   },
   "outputs": [
    {
     "data": {
      "text/plain": "[4.812566907609877,\n 5.229270827235305,\n 6.749798999160064,\n 4.6986266144110695,\n 5.83460014556857,\n 1.4900114024329525,\n 2.354574897431513,\n 1.3761132675144652,\n 0.3064319992975,\n 2.5786840957478887]"
     },
     "execution_count": 11,
     "metadata": {},
     "output_type": "execute_result"
    }
   ],
   "source": [
    "distances"
   ]
  },
  {
   "cell_type": "code",
   "execution_count": 12,
   "metadata": {
    "collapsed": true,
    "ExecuteTime": {
     "end_time": "2023-07-18T23:38:36.500668100Z",
     "start_time": "2023-07-18T23:38:36.487778800Z"
    }
   },
   "outputs": [],
   "source": [
    "distances = [sqrt(np.sum((x_train - x)**2))\n",
    "             for x_train in X_train]"
   ]
  },
  {
   "cell_type": "code",
   "execution_count": 13,
   "metadata": {
    "ExecuteTime": {
     "end_time": "2023-07-18T23:38:38.534960500Z",
     "start_time": "2023-07-18T23:38:38.526475900Z"
    }
   },
   "outputs": [
    {
     "data": {
      "text/plain": "[4.812566907609877,\n 5.229270827235305,\n 6.749798999160064,\n 4.6986266144110695,\n 5.83460014556857,\n 1.4900114024329525,\n 2.354574897431513,\n 1.3761132675144652,\n 0.3064319992975,\n 2.5786840957478887]"
     },
     "execution_count": 13,
     "metadata": {},
     "output_type": "execute_result"
    }
   ],
   "source": [
    "distances"
   ]
  },
  {
   "cell_type": "code",
   "execution_count": 14,
   "metadata": {
    "ExecuteTime": {
     "end_time": "2023-07-18T23:38:54.157730700Z",
     "start_time": "2023-07-18T23:38:54.107383500Z"
    }
   },
   "outputs": [
    {
     "data": {
      "text/plain": "array([8, 7, 5, 6, 9, 3, 0, 1, 4, 2], dtype=int64)"
     },
     "execution_count": 14,
     "metadata": {},
     "output_type": "execute_result"
    }
   ],
   "source": [
    "np.argsort(distances) # 排序但是返回的是索引"
   ]
  },
  {
   "cell_type": "code",
   "execution_count": 15,
   "metadata": {
    "collapsed": true,
    "ExecuteTime": {
     "end_time": "2023-07-18T23:39:11.489983400Z",
     "start_time": "2023-07-18T23:39:11.483964200Z"
    }
   },
   "outputs": [],
   "source": [
    "nearest = np.argsort(distances)"
   ]
  },
  {
   "cell_type": "code",
   "execution_count": 16,
   "metadata": {
    "collapsed": true,
    "ExecuteTime": {
     "end_time": "2023-07-18T23:39:12.577349Z",
     "start_time": "2023-07-18T23:39:12.571207Z"
    }
   },
   "outputs": [],
   "source": [
    "k = 6"
   ]
  },
  {
   "cell_type": "code",
   "execution_count": 17,
   "metadata": {
    "collapsed": true,
    "ExecuteTime": {
     "end_time": "2023-07-18T23:39:15.435380300Z",
     "start_time": "2023-07-18T23:39:15.421458800Z"
    }
   },
   "outputs": [],
   "source": [
    "topK_y = [y_train[neighbor] for neighbor in nearest[:k]]"
   ]
  },
  {
   "cell_type": "code",
   "execution_count": 18,
   "metadata": {
    "ExecuteTime": {
     "end_time": "2023-07-18T23:39:28.790858300Z",
     "start_time": "2023-07-18T23:39:28.782316500Z"
    }
   },
   "outputs": [
    {
     "data": {
      "text/plain": "[1, 1, 1, 1, 1, 0]"
     },
     "execution_count": 18,
     "metadata": {},
     "output_type": "execute_result"
    }
   ],
   "source": [
    "topK_y"
   ]
  },
  {
   "cell_type": "code",
   "execution_count": 19,
   "metadata": {
    "collapsed": true,
    "ExecuteTime": {
     "end_time": "2023-07-18T23:39:34.716197Z",
     "start_time": "2023-07-18T23:39:34.711638600Z"
    }
   },
   "outputs": [],
   "source": [
    "from collections import Counter\n",
    "votes = Counter(topK_y)"
   ]
  },
  {
   "cell_type": "code",
   "execution_count": 20,
   "metadata": {
    "ExecuteTime": {
     "end_time": "2023-07-18T23:39:36.682352600Z",
     "start_time": "2023-07-18T23:39:36.666897300Z"
    }
   },
   "outputs": [
    {
     "data": {
      "text/plain": "Counter({1: 5, 0: 1})"
     },
     "execution_count": 20,
     "metadata": {},
     "output_type": "execute_result"
    }
   ],
   "source": [
    "votes"
   ]
  },
  {
   "cell_type": "code",
   "execution_count": 21,
   "metadata": {
    "ExecuteTime": {
     "end_time": "2023-07-18T23:39:57.023149500Z",
     "start_time": "2023-07-18T23:39:57.014143900Z"
    }
   },
   "outputs": [
    {
     "data": {
      "text/plain": "[(1, 5)]"
     },
     "execution_count": 21,
     "metadata": {},
     "output_type": "execute_result"
    }
   ],
   "source": [
    "votes.most_common(1)# 找出票数最多的一个元素，这里参数可以传2代表找出票数最多的2个参数"
   ]
  },
  {
   "cell_type": "code",
   "execution_count": 22,
   "metadata": {
    "collapsed": true,
    "ExecuteTime": {
     "end_time": "2023-07-18T23:40:40.268746Z",
     "start_time": "2023-07-18T23:40:40.258726700Z"
    }
   },
   "outputs": [],
   "source": [
    "predict_y = votes.most_common(1)[0][0]"
   ]
  },
  {
   "cell_type": "code",
   "execution_count": 23,
   "metadata": {
    "ExecuteTime": {
     "end_time": "2023-07-18T23:40:42.202665500Z",
     "start_time": "2023-07-18T23:40:42.182132800Z"
    }
   },
   "outputs": [
    {
     "data": {
      "text/plain": "1"
     },
     "execution_count": 23,
     "metadata": {},
     "output_type": "execute_result"
    }
   ],
   "source": [
    "predict_y"
   ]
  }
 ],
 "metadata": {
  "kernelspec": {
   "display_name": "Python 3",
   "language": "python",
   "name": "python3"
  },
  "language_info": {
   "codemirror_mode": {
    "name": "ipython",
    "version": 3
   },
   "file_extension": ".py",
   "mimetype": "text/x-python",
   "name": "python",
   "nbconvert_exporter": "python",
   "pygments_lexer": "ipython3",
   "version": "3.6.1"
  }
 },
 "nbformat": 4,
 "nbformat_minor": 2
}

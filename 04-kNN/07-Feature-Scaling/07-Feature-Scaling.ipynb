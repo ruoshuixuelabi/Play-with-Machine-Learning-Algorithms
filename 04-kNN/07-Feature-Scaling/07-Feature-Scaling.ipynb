{
 "cells": [
  {
   "cell_type": "markdown",
   "metadata": {},
   "source": [
    "## 07 数据归一化处理"
   ]
  },
  {
   "cell_type": "code",
   "execution_count": 15,
   "metadata": {
    "collapsed": true,
    "ExecuteTime": {
     "end_time": "2023-07-19T01:27:52.880662200Z",
     "start_time": "2023-07-19T01:27:52.854208900Z"
    }
   },
   "outputs": [],
   "source": [
    "import numpy as np\n",
    "import matplotlib.pyplot as plt"
   ]
  },
  {
   "cell_type": "markdown",
   "metadata": {},
   "source": [
    "### 最值归一化 Normalization"
   ]
  },
  {
   "cell_type": "code",
   "execution_count": 16,
   "metadata": {
    "collapsed": true,
    "ExecuteTime": {
     "end_time": "2023-07-19T01:27:52.938184600Z",
     "start_time": "2023-07-19T01:27:52.859696400Z"
    }
   },
   "outputs": [],
   "source": [
    "x = np.random.randint(0, 100, 100) "
   ]
  },
  {
   "cell_type": "code",
   "execution_count": 17,
   "metadata": {
    "ExecuteTime": {
     "end_time": "2023-07-19T01:27:52.939178900Z",
     "start_time": "2023-07-19T01:27:52.874197600Z"
    }
   },
   "outputs": [
    {
     "data": {
      "text/plain": "array([31, 63, 97, 61, 39, 35, 68, 87, 73,  0, 68, 56, 75, 55, 38, 51, 17,\n       81, 78, 50,  3, 67, 37, 71, 46, 94, 73,  4, 39, 53, 74, 19, 75, 49,\n       93, 29, 81,  7, 24, 65,  9,  1, 95, 87, 89, 49, 24, 76,  3, 49, 97,\n       69, 73, 92, 84, 17, 82, 46, 73,  2, 56,  6, 31, 88, 24, 17,  9, 16,\n       42, 45, 54,  3, 96, 25, 55, 60, 21,  4, 91, 23, 24, 56, 44, 14, 94,\n       26, 83, 56, 17, 81, 80, 26, 41, 60, 42, 27, 11, 82, 62, 46])"
     },
     "execution_count": 17,
     "metadata": {},
     "output_type": "execute_result"
    }
   ],
   "source": [
    "x"
   ]
  },
  {
   "cell_type": "code",
   "execution_count": 18,
   "metadata": {
    "ExecuteTime": {
     "end_time": "2023-07-19T01:27:52.939178900Z",
     "start_time": "2023-07-19T01:27:52.889142800Z"
    }
   },
   "outputs": [
    {
     "data": {
      "text/plain": "array([0.31958763, 0.64948454, 1.        , 0.62886598, 0.40206186,\n       0.36082474, 0.70103093, 0.89690722, 0.75257732, 0.        ,\n       0.70103093, 0.57731959, 0.77319588, 0.56701031, 0.39175258,\n       0.5257732 , 0.17525773, 0.83505155, 0.80412371, 0.51546392,\n       0.03092784, 0.69072165, 0.3814433 , 0.73195876, 0.4742268 ,\n       0.96907216, 0.75257732, 0.04123711, 0.40206186, 0.54639175,\n       0.7628866 , 0.19587629, 0.77319588, 0.50515464, 0.95876289,\n       0.29896907, 0.83505155, 0.07216495, 0.24742268, 0.67010309,\n       0.09278351, 0.01030928, 0.97938144, 0.89690722, 0.91752577,\n       0.50515464, 0.24742268, 0.78350515, 0.03092784, 0.50515464,\n       1.        , 0.71134021, 0.75257732, 0.94845361, 0.86597938,\n       0.17525773, 0.84536082, 0.4742268 , 0.75257732, 0.02061856,\n       0.57731959, 0.06185567, 0.31958763, 0.90721649, 0.24742268,\n       0.17525773, 0.09278351, 0.16494845, 0.43298969, 0.46391753,\n       0.55670103, 0.03092784, 0.98969072, 0.25773196, 0.56701031,\n       0.6185567 , 0.21649485, 0.04123711, 0.93814433, 0.2371134 ,\n       0.24742268, 0.57731959, 0.45360825, 0.1443299 , 0.96907216,\n       0.26804124, 0.8556701 , 0.57731959, 0.17525773, 0.83505155,\n       0.82474227, 0.26804124, 0.42268041, 0.6185567 , 0.43298969,\n       0.27835052, 0.11340206, 0.84536082, 0.63917526, 0.4742268 ])"
     },
     "execution_count": 18,
     "metadata": {},
     "output_type": "execute_result"
    }
   ],
   "source": [
    "(x - np.min(x)) / (np.max(x) - np.min(x))"
   ]
  },
  {
   "cell_type": "code",
   "execution_count": 19,
   "metadata": {
    "collapsed": true,
    "ExecuteTime": {
     "end_time": "2023-07-19T01:27:52.939178900Z",
     "start_time": "2023-07-19T01:27:52.905065600Z"
    }
   },
   "outputs": [],
   "source": [
    "X = np.random.randint(0, 100, (50, 2))"
   ]
  },
  {
   "cell_type": "code",
   "execution_count": 20,
   "metadata": {
    "collapsed": true,
    "ExecuteTime": {
     "end_time": "2023-07-19T01:27:52.939178900Z",
     "start_time": "2023-07-19T01:27:52.921705600Z"
    }
   },
   "outputs": [],
   "source": [
    "X = np.array(X, dtype=float)"
   ]
  },
  {
   "cell_type": "code",
   "execution_count": 21,
   "metadata": {
    "ExecuteTime": {
     "end_time": "2023-07-19T01:27:52.950703300Z",
     "start_time": "2023-07-19T01:27:52.937186100Z"
    }
   },
   "outputs": [
    {
     "data": {
      "text/plain": "array([[84., 70.],\n       [55., 56.],\n       [22., 55.],\n       [18., 80.],\n       [71., 21.],\n       [11., 28.],\n       [98., 49.],\n       [49., 71.],\n       [62., 46.],\n       [ 6., 15.]])"
     },
     "execution_count": 21,
     "metadata": {},
     "output_type": "execute_result"
    }
   ],
   "source": [
    "X[:10,:]"
   ]
  },
  {
   "cell_type": "code",
   "execution_count": 22,
   "metadata": {
    "collapsed": true,
    "ExecuteTime": {
     "end_time": "2023-07-19T01:27:52.993060900Z",
     "start_time": "2023-07-19T01:27:52.950703300Z"
    }
   },
   "outputs": [],
   "source": [
    "X[:,0] = (X[:,0] - np.min(X[:,0])) / (np.max(X[:,0]) - np.min(X[:,0]))\n",
    "X[:,1] = (X[:,1] - np.min(X[:,1])) / (np.max(X[:,1]) - np.min(X[:,1]))"
   ]
  },
  {
   "cell_type": "code",
   "execution_count": 23,
   "metadata": {
    "ExecuteTime": {
     "end_time": "2023-07-19T01:27:52.993060900Z",
     "start_time": "2023-07-19T01:27:52.967184600Z"
    }
   },
   "outputs": [
    {
     "data": {
      "text/plain": "array([[0.84946237, 0.71428571],\n       [0.53763441, 0.57142857],\n       [0.1827957 , 0.56122449],\n       [0.13978495, 0.81632653],\n       [0.70967742, 0.21428571],\n       [0.06451613, 0.28571429],\n       [1.        , 0.5       ],\n       [0.47311828, 0.7244898 ],\n       [0.61290323, 0.46938776],\n       [0.01075269, 0.15306122]])"
     },
     "execution_count": 23,
     "metadata": {},
     "output_type": "execute_result"
    }
   ],
   "source": [
    "X[:10,:]"
   ]
  },
  {
   "cell_type": "code",
   "execution_count": 24,
   "metadata": {
    "ExecuteTime": {
     "end_time": "2023-07-19T01:27:53.057560900Z",
     "start_time": "2023-07-19T01:27:52.983485800Z"
    }
   },
   "outputs": [
    {
     "data": {
      "text/plain": "<Figure size 640x480 with 1 Axes>",
      "image/png": "[encoded data removed]"
     },
     "metadata": {},
     "output_type": "display_data"
    }
   ],
   "source": [
    "plt.scatter(X[:,0], X[:,1])\n",
    "plt.show()"
   ]
  },
  {
   "cell_type": "code",
   "execution_count": 25,
   "metadata": {
    "ExecuteTime": {
     "end_time": "2023-07-19T01:27:53.078087Z",
     "start_time": "2023-07-19T01:27:53.059065100Z"
    }
   },
   "outputs": [
    {
     "data": {
      "text/plain": "0.5496774193548388"
     },
     "execution_count": 25,
     "metadata": {},
     "output_type": "execute_result"
    }
   ],
   "source": [
    "np.mean(X[:,0])"
   ]
  },
  {
   "cell_type": "code",
   "execution_count": 26,
   "metadata": {
    "ExecuteTime": {
     "end_time": "2023-07-19T01:27:53.129036Z",
     "start_time": "2023-07-19T01:27:53.075097200Z"
    }
   },
   "outputs": [
    {
     "data": {
      "text/plain": "0.3013872423606995"
     },
     "execution_count": 26,
     "metadata": {},
     "output_type": "execute_result"
    }
   ],
   "source": [
    "np.std(X[:,0])"
   ]
  },
  {
   "cell_type": "code",
   "execution_count": 27,
   "metadata": {
    "ExecuteTime": {
     "end_time": "2023-07-19T01:27:53.129036Z",
     "start_time": "2023-07-19T01:27:53.090089900Z"
    }
   },
   "outputs": [
    {
     "data": {
      "text/plain": "0.4846938775510204"
     },
     "execution_count": 27,
     "metadata": {},
     "output_type": "execute_result"
    }
   ],
   "source": [
    "np.mean(X[:,1])"
   ]
  },
  {
   "cell_type": "code",
   "execution_count": 28,
   "metadata": {
    "ExecuteTime": {
     "end_time": "2023-07-19T01:27:53.150147900Z",
     "start_time": "2023-07-19T01:27:53.104941Z"
    }
   },
   "outputs": [
    {
     "data": {
      "text/plain": "0.28793054428807563"
     },
     "execution_count": 28,
     "metadata": {},
     "output_type": "execute_result"
    }
   ],
   "source": [
    "np.std(X[:,1])"
   ]
  },
  {
   "cell_type": "markdown",
   "metadata": {},
   "source": [
    "### 均值方差归一化 Standardization"
   ]
  },
  {
   "cell_type": "code",
   "execution_count": 29,
   "metadata": {
    "collapsed": true,
    "ExecuteTime": {
     "end_time": "2023-07-19T01:27:53.159630300Z",
     "start_time": "2023-07-19T01:27:53.121554400Z"
    }
   },
   "outputs": [],
   "source": [
    "X2 = np.random.randint(0, 100, (50, 2))"
   ]
  },
  {
   "cell_type": "code",
   "execution_count": 30,
   "metadata": {
    "collapsed": true,
    "ExecuteTime": {
     "end_time": "2023-07-19T01:27:53.226899300Z",
     "start_time": "2023-07-19T01:27:53.150147900Z"
    }
   },
   "outputs": [],
   "source": [
    "X2 = np.array(X2, dtype=float)"
   ]
  },
  {
   "cell_type": "code",
   "execution_count": 31,
   "metadata": {
    "ExecuteTime": {
     "end_time": "2023-07-19T01:27:53.239891600Z",
     "start_time": "2023-07-19T01:27:53.153140300Z"
    }
   },
   "outputs": [
    {
     "data": {
      "text/plain": "array([[95., 67.],\n       [37., 44.],\n       [52., 17.],\n       [29., 82.],\n       [36., 54.],\n       [35.,  7.],\n       [36., 87.],\n       [56., 20.],\n       [25., 78.],\n       [24., 88.]])"
     },
     "execution_count": 31,
     "metadata": {},
     "output_type": "execute_result"
    }
   ],
   "source": [
    "X2[:10,:]"
   ]
  },
  {
   "cell_type": "code",
   "execution_count": 32,
   "metadata": {
    "collapsed": true,
    "ExecuteTime": {
     "end_time": "2023-07-19T01:27:53.239891600Z",
     "start_time": "2023-07-19T01:27:53.185078200Z"
    }
   },
   "outputs": [],
   "source": [
    "X2[:,0] = (X2[:,0] - np.mean(X2[:,0])) / np.std(X2[:,0])\n",
    "X2[:,1] = (X2[:,1] - np.mean(X2[:,1])) / np.std(X2[:,1])"
   ]
  },
  {
   "cell_type": "code",
   "execution_count": 33,
   "metadata": {
    "ExecuteTime": {
     "end_time": "2023-07-19T01:27:53.289340600Z",
     "start_time": "2023-07-19T01:27:53.185078200Z"
    }
   },
   "outputs": [
    {
     "data": {
      "text/plain": "<Figure size 640x480 with 1 Axes>",
      "image/png": "[encoded data removed]"
     },
     "metadata": {},
     "output_type": "display_data"
    }
   ],
   "source": [
    "plt.scatter(X2[:,0], X2[:,1])\n",
    "plt.show()"
   ]
  },
  {
   "cell_type": "code",
   "execution_count": 34,
   "metadata": {
    "ExecuteTime": {
     "end_time": "2023-07-19T01:27:53.290550Z",
     "start_time": "2023-07-19T01:27:53.260154800Z"
    }
   },
   "outputs": [
    {
     "data": {
      "text/plain": "6.661338147750939e-17"
     },
     "execution_count": 34,
     "metadata": {},
     "output_type": "execute_result"
    }
   ],
   "source": [
    "np.mean(X2[:,0])"
   ]
  },
  {
   "cell_type": "code",
   "execution_count": 35,
   "metadata": {
    "ExecuteTime": {
     "end_time": "2023-07-19T01:27:53.299031100Z",
     "start_time": "2023-07-19T01:27:53.275623200Z"
    }
   },
   "outputs": [
    {
     "data": {
      "text/plain": "1.0"
     },
     "execution_count": 35,
     "metadata": {},
     "output_type": "execute_result"
    }
   ],
   "source": [
    "np.std(X2[:,0])"
   ]
  },
  {
   "cell_type": "code",
   "execution_count": 36,
   "metadata": {
    "ExecuteTime": {
     "end_time": "2023-07-19T01:27:53.307035400Z",
     "start_time": "2023-07-19T01:27:53.291547800Z"
    }
   },
   "outputs": [
    {
     "data": {
      "text/plain": "8.215650382226158e-17"
     },
     "execution_count": 36,
     "metadata": {},
     "output_type": "execute_result"
    }
   ],
   "source": [
    "np.mean(X2[:,1])"
   ]
  },
  {
   "cell_type": "code",
   "execution_count": 37,
   "metadata": {
    "ExecuteTime": {
     "end_time": "2023-07-19T01:27:53.368366Z",
     "start_time": "2023-07-19T01:27:53.308032700Z"
    }
   },
   "outputs": [
    {
     "data": {
      "text/plain": "1.0"
     },
     "execution_count": 37,
     "metadata": {},
     "output_type": "execute_result"
    }
   ],
   "source": [
    "np.std(X2[:,1])"
   ]
  }
 ],
 "metadata": {
  "kernelspec": {
   "display_name": "Python 3",
   "language": "python",
   "name": "python3"
  },
  "language_info": {
   "codemirror_mode": {
    "name": "ipython",
    "version": 3
   },
   "file_extension": ".py",
   "mimetype": "text/x-python",
   "name": "python",
   "nbconvert_exporter": "python",
   "pygments_lexer": "ipython3",
   "version": "3.6.1"
  }
 },
 "nbformat": 4,
 "nbformat_minor": 2
}

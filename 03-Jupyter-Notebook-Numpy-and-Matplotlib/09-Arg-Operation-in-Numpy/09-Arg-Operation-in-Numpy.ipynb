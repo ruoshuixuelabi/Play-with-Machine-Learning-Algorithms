{
 "cells": [
  {
   "cell_type": "markdown",
   "metadata": {},
   "source": [
    "## 09 ``Numpy`` 中arg运算"
   ]
  },
  {
   "cell_type": "code",
   "execution_count": 1,
   "metadata": {
    "ExecuteTime": {
     "end_time": "2023-07-18T04:52:11.759165Z",
     "start_time": "2023-07-18T04:52:11.687551700Z"
    }
   },
   "outputs": [],
   "source": [
    "import numpy as np"
   ]
  },
  {
   "cell_type": "code",
   "execution_count": 2,
   "metadata": {
    "collapsed": true,
    "ExecuteTime": {
     "end_time": "2023-07-18T04:52:11.805396900Z",
     "start_time": "2023-07-18T04:52:11.761158700Z"
    }
   },
   "outputs": [],
   "source": [
    "x = np.random.normal(0, 1, 1000000)"
   ]
  },
  {
   "cell_type": "markdown",
   "metadata": {},
   "source": [
    "### 索引"
   ]
  },
  {
   "cell_type": "code",
   "execution_count": 3,
   "metadata": {
    "ExecuteTime": {
     "end_time": "2023-07-18T04:52:11.865337200Z",
     "start_time": "2023-07-18T04:52:11.805396900Z"
    }
   },
   "outputs": [
    {
     "data": {
      "text/plain": "924142"
     },
     "execution_count": 3,
     "metadata": {},
     "output_type": "execute_result"
    }
   ],
   "source": [
    "np.argmin(x) #返回的是索引值"
   ]
  },
  {
   "cell_type": "code",
   "execution_count": 4,
   "metadata": {
    "ExecuteTime": {
     "end_time": "2023-07-18T04:52:11.876779900Z",
     "start_time": "2023-07-18T04:52:11.836607800Z"
    }
   },
   "outputs": [
    {
     "data": {
      "text/plain": "0.5357058332863539"
     },
     "execution_count": 4,
     "metadata": {},
     "output_type": "execute_result"
    }
   ],
   "source": [
    "x[886266]"
   ]
  },
  {
   "cell_type": "code",
   "execution_count": 5,
   "metadata": {
    "ExecuteTime": {
     "end_time": "2023-07-18T04:52:11.876779900Z",
     "start_time": "2023-07-18T04:52:11.865337200Z"
    }
   },
   "outputs": [
    {
     "data": {
      "text/plain": "-5.146339641727085"
     },
     "execution_count": 5,
     "metadata": {},
     "output_type": "execute_result"
    }
   ],
   "source": [
    "np.min(x)"
   ]
  },
  {
   "cell_type": "code",
   "execution_count": 6,
   "metadata": {
    "ExecuteTime": {
     "end_time": "2023-07-18T04:52:11.881827400Z",
     "start_time": "2023-07-18T04:52:11.867858700Z"
    }
   },
   "outputs": [
    {
     "data": {
      "text/plain": "679504"
     },
     "execution_count": 6,
     "metadata": {},
     "output_type": "execute_result"
    }
   ],
   "source": [
    "np.argmax(x)"
   ]
  },
  {
   "cell_type": "code",
   "execution_count": 7,
   "metadata": {
    "ExecuteTime": {
     "end_time": "2023-07-18T04:52:11.926800300Z",
     "start_time": "2023-07-18T04:52:11.882824Z"
    }
   },
   "outputs": [
    {
     "data": {
      "text/plain": "-1.1886200598920158"
     },
     "execution_count": 7,
     "metadata": {},
     "output_type": "execute_result"
    }
   ],
   "source": [
    "x[4851]"
   ]
  },
  {
   "cell_type": "code",
   "execution_count": 8,
   "metadata": {
    "ExecuteTime": {
     "end_time": "2023-07-18T04:52:11.926800300Z",
     "start_time": "2023-07-18T04:52:11.897612100Z"
    }
   },
   "outputs": [
    {
     "data": {
      "text/plain": "4.90903783276991"
     },
     "execution_count": 8,
     "metadata": {},
     "output_type": "execute_result"
    }
   ],
   "source": [
    "np.max(x)"
   ]
  },
  {
   "cell_type": "markdown",
   "metadata": {},
   "source": [
    "### 排序和使用索引"
   ]
  },
  {
   "cell_type": "code",
   "execution_count": 9,
   "metadata": {
    "ExecuteTime": {
     "end_time": "2023-07-18T04:52:11.935297Z",
     "start_time": "2023-07-18T04:52:11.913420100Z"
    }
   },
   "outputs": [
    {
     "data": {
      "text/plain": "array([ 0,  1,  2,  3,  4,  5,  6,  7,  8,  9, 10, 11, 12, 13, 14, 15])"
     },
     "execution_count": 9,
     "metadata": {},
     "output_type": "execute_result"
    }
   ],
   "source": [
    "x = np.arange(16)\n",
    "x"
   ]
  },
  {
   "cell_type": "code",
   "execution_count": 10,
   "metadata": {
    "ExecuteTime": {
     "end_time": "2023-07-18T04:52:11.944024300Z",
     "start_time": "2023-07-18T04:52:11.929794200Z"
    }
   },
   "outputs": [
    {
     "data": {
      "text/plain": "array([ 2,  1,  7,  3,  4, 13,  0, 15,  8,  9, 11, 10, 12,  5, 14,  6])"
     },
     "execution_count": 10,
     "metadata": {},
     "output_type": "execute_result"
    }
   ],
   "source": [
    "np.random.shuffle(x)\n",
    "x"
   ]
  },
  {
   "cell_type": "code",
   "execution_count": 11,
   "metadata": {
    "ExecuteTime": {
     "end_time": "2023-07-18T04:52:12.012946400Z",
     "start_time": "2023-07-18T04:52:11.944024300Z"
    }
   },
   "outputs": [
    {
     "data": {
      "text/plain": "array([ 0,  1,  2,  3,  4,  5,  6,  7,  8,  9, 10, 11, 12, 13, 14, 15])"
     },
     "execution_count": 11,
     "metadata": {},
     "output_type": "execute_result"
    }
   ],
   "source": [
    "np.sort(x)"
   ]
  },
  {
   "cell_type": "code",
   "execution_count": 12,
   "metadata": {
    "ExecuteTime": {
     "end_time": "2023-07-18T04:52:12.012946400Z",
     "start_time": "2023-07-18T04:52:12.004455300Z"
    }
   },
   "outputs": [
    {
     "data": {
      "text/plain": "array([ 2,  1,  7,  3,  4, 13,  0, 15,  8,  9, 11, 10, 12,  5, 14,  6])"
     },
     "execution_count": 12,
     "metadata": {},
     "output_type": "execute_result"
    }
   ],
   "source": [
    "x"
   ]
  },
  {
   "cell_type": "code",
   "execution_count": 13,
   "metadata": {
    "collapsed": true,
    "ExecuteTime": {
     "end_time": "2023-07-18T04:52:12.023432400Z",
     "start_time": "2023-07-18T04:52:12.005450800Z"
    }
   },
   "outputs": [],
   "source": [
    "x.sort()"
   ]
  },
  {
   "cell_type": "code",
   "execution_count": 14,
   "metadata": {
    "ExecuteTime": {
     "end_time": "2023-07-18T04:52:12.049858600Z",
     "start_time": "2023-07-18T04:52:12.024426Z"
    }
   },
   "outputs": [
    {
     "data": {
      "text/plain": "array([ 0,  1,  2,  3,  4,  5,  6,  7,  8,  9, 10, 11, 12, 13, 14, 15])"
     },
     "execution_count": 14,
     "metadata": {},
     "output_type": "execute_result"
    }
   ],
   "source": [
    "x"
   ]
  },
  {
   "cell_type": "code",
   "execution_count": 15,
   "metadata": {
    "ExecuteTime": {
     "end_time": "2023-07-18T04:52:12.092862900Z",
     "start_time": "2023-07-18T04:52:12.040038800Z"
    }
   },
   "outputs": [
    {
     "data": {
      "text/plain": "array([[8, 2, 2, 1],\n       [4, 8, 3, 7],\n       [0, 6, 8, 1],\n       [0, 8, 7, 4]])"
     },
     "execution_count": 15,
     "metadata": {},
     "output_type": "execute_result"
    }
   ],
   "source": [
    "X = np.random.randint(10, size=(4,4))\n",
    "X"
   ]
  },
  {
   "cell_type": "code",
   "execution_count": 27,
   "metadata": {
    "ExecuteTime": {
     "end_time": "2023-07-18T04:54:03.825479300Z",
     "start_time": "2023-07-18T04:54:03.807501800Z"
    }
   },
   "outputs": [
    {
     "data": {
      "text/plain": "array([[0, 2, 2, 1],\n       [0, 6, 3, 1],\n       [4, 8, 7, 4],\n       [8, 8, 8, 7]])"
     },
     "execution_count": 27,
     "metadata": {},
     "output_type": "execute_result"
    }
   ],
   "source": [
    "np.sort(X, axis=0)"
   ]
  },
  {
   "cell_type": "code",
   "execution_count": 28,
   "metadata": {
    "ExecuteTime": {
     "end_time": "2023-07-18T04:54:06.298485800Z",
     "start_time": "2023-07-18T04:54:06.288107300Z"
    }
   },
   "outputs": [
    {
     "data": {
      "text/plain": "array([[1, 2, 2, 8],\n       [3, 4, 7, 8],\n       [0, 1, 6, 8],\n       [0, 4, 7, 8]])"
     },
     "execution_count": 28,
     "metadata": {},
     "output_type": "execute_result"
    }
   ],
   "source": [
    "np.sort(X, axis=1)"
   ]
  },
  {
   "cell_type": "markdown",
   "metadata": {},
   "source": [
    "#### 使用索引"
   ]
  },
  {
   "cell_type": "code",
   "execution_count": 18,
   "metadata": {
    "ExecuteTime": {
     "end_time": "2023-07-18T04:52:12.135174100Z",
     "start_time": "2023-07-18T04:52:12.118033400Z"
    }
   },
   "outputs": [
    {
     "data": {
      "text/plain": "array([ 0,  1,  2,  3,  4,  5,  6,  7,  8,  9, 10, 11, 12, 13, 14, 15])"
     },
     "execution_count": 18,
     "metadata": {},
     "output_type": "execute_result"
    }
   ],
   "source": [
    "x"
   ]
  },
  {
   "cell_type": "code",
   "execution_count": 19,
   "metadata": {
    "collapsed": true,
    "ExecuteTime": {
     "end_time": "2023-07-18T04:52:12.155439200Z",
     "start_time": "2023-07-18T04:52:12.135174100Z"
    }
   },
   "outputs": [],
   "source": [
    "np.random.shuffle(x)"
   ]
  },
  {
   "cell_type": "code",
   "execution_count": 20,
   "metadata": {
    "ExecuteTime": {
     "end_time": "2023-07-18T04:52:12.165084800Z",
     "start_time": "2023-07-18T04:52:12.147990700Z"
    }
   },
   "outputs": [
    {
     "data": {
      "text/plain": "array([ 7, 12, 14,  8, 13, 10,  5,  0, 15,  9,  6,  2, 11,  4,  3,  1])"
     },
     "execution_count": 20,
     "metadata": {},
     "output_type": "execute_result"
    }
   ],
   "source": [
    "x"
   ]
  },
  {
   "cell_type": "code",
   "execution_count": 21,
   "metadata": {
    "ExecuteTime": {
     "end_time": "2023-07-18T04:52:12.223929500Z",
     "start_time": "2023-07-18T04:52:12.165084800Z"
    }
   },
   "outputs": [
    {
     "data": {
      "text/plain": "array([ 7, 15, 11, 14, 13,  6, 10,  0,  3,  9,  5, 12,  1,  4,  2,  8],\n      dtype=int64)"
     },
     "execution_count": 21,
     "metadata": {},
     "output_type": "execute_result"
    }
   ],
   "source": [
    "np.argsort(x)"
   ]
  },
  {
   "cell_type": "code",
   "execution_count": 22,
   "metadata": {
    "ExecuteTime": {
     "end_time": "2023-07-18T04:52:12.270785200Z",
     "start_time": "2023-07-18T04:52:12.224926600Z"
    }
   },
   "outputs": [
    {
     "data": {
      "text/plain": "array([ 0,  1,  2,  3,  4, 10,  5,  7,  8,  9,  6, 13, 11, 12, 14, 15])"
     },
     "execution_count": 22,
     "metadata": {},
     "output_type": "execute_result"
    }
   ],
   "source": [
    "np.partition(x, 3)"
   ]
  },
  {
   "cell_type": "code",
   "execution_count": 23,
   "metadata": {
    "ExecuteTime": {
     "end_time": "2023-07-18T04:52:12.302381200Z",
     "start_time": "2023-07-18T04:52:12.271781600Z"
    }
   },
   "outputs": [
    {
     "data": {
      "text/plain": "array([ 7, 15, 11, 14, 13,  5,  6,  0,  3,  9, 10,  4, 12,  1,  2,  8],\n      dtype=int64)"
     },
     "execution_count": 23,
     "metadata": {},
     "output_type": "execute_result"
    }
   ],
   "source": [
    "np.argpartition(x, 3)"
   ]
  },
  {
   "cell_type": "code",
   "execution_count": 24,
   "metadata": {
    "ExecuteTime": {
     "end_time": "2023-07-18T04:52:12.302381200Z",
     "start_time": "2023-07-18T04:52:12.287781100Z"
    }
   },
   "outputs": [
    {
     "data": {
      "text/plain": "array([[8, 2, 2, 1],\n       [4, 8, 3, 7],\n       [0, 6, 8, 1],\n       [0, 8, 7, 4]])"
     },
     "execution_count": 24,
     "metadata": {},
     "output_type": "execute_result"
    }
   ],
   "source": [
    "X"
   ]
  },
  {
   "cell_type": "code",
   "execution_count": 25,
   "metadata": {
    "ExecuteTime": {
     "end_time": "2023-07-18T04:52:12.316889700Z",
     "start_time": "2023-07-18T04:52:12.302381200Z"
    }
   },
   "outputs": [
    {
     "data": {
      "text/plain": "array([[3, 1, 2, 0],\n       [2, 0, 3, 1],\n       [0, 3, 1, 2],\n       [0, 3, 2, 1]], dtype=int64)"
     },
     "execution_count": 25,
     "metadata": {},
     "output_type": "execute_result"
    }
   ],
   "source": [
    "np.argsort(X, axis=1)"
   ]
  },
  {
   "cell_type": "code",
   "execution_count": 26,
   "metadata": {
    "ExecuteTime": {
     "end_time": "2023-07-18T04:52:12.342844300Z",
     "start_time": "2023-07-18T04:52:12.316889700Z"
    }
   },
   "outputs": [
    {
     "data": {
      "text/plain": "array([[3, 1, 2, 0],\n       [2, 0, 3, 1],\n       [0, 3, 1, 2],\n       [0, 3, 2, 1]], dtype=int64)"
     },
     "execution_count": 26,
     "metadata": {},
     "output_type": "execute_result"
    }
   ],
   "source": [
    "np.argpartition(X, 2, axis=1)"
   ]
  }
 ],
 "metadata": {
  "kernelspec": {
   "display_name": "Python 3",
   "language": "python",
   "name": "python3"
  },
  "language_info": {
   "codemirror_mode": {
    "name": "ipython",
    "version": 3
   },
   "file_extension": ".py",
   "mimetype": "text/x-python",
   "name": "python",
   "nbconvert_exporter": "python",
   "pygments_lexer": "ipython3",
   "version": "3.6.1"
  }
 },
 "nbformat": 4,
 "nbformat_minor": 2
}
